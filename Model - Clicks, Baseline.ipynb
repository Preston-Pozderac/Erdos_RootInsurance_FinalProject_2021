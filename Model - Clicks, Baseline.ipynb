{
 "cells": [
  {
   "cell_type": "code",
   "execution_count": 1,
   "id": "187c21d4",
   "metadata": {},
   "outputs": [],
   "source": [
    "import pandas as pd\n",
    "import csv\n",
    "import numpy as np\n",
    "import plotly.express as px\n",
    "import matplotlib.pyplot as plt"
   ]
  },
  {
   "cell_type": "code",
   "execution_count": 2,
   "id": "cfebc896",
   "metadata": {},
   "outputs": [],
   "source": [
    "data = pd.read_csv(\"Root_Insurance_data.csv\",delimiter = \",\")"
   ]
  },
  {
   "cell_type": "code",
   "execution_count": 62,
   "id": "6a08d384",
   "metadata": {},
   "outputs": [],
   "source": [
    "## Input: Data Frame (in the format of \"Root_Insurance_data.csv\") and encode_rank (default = False)\n",
    "## Output: Data Frame (processed by one hot encoding ready to be used to make models)\n",
    "\n",
    "## This function will one hot encode the following columns in the data frame: \n",
    "## Currently Insured, Marital Status, click, rank (optional, determined by encode_rank = True)\n",
    "## and will drop the respective columns associated to the respective values of above columns:\n",
    "## unknown, S, False, 5.0 (if encode_rank = True)\n",
    "\n",
    "import category_encoders as ce\n",
    "\n",
    "def prepare_data(data:pd.DataFrame(), encode_rank = False) -> pd.DataFrame():\n",
    "    temp = data.copy()\n",
    "    \n",
    "    if encode_rank:\n",
    "        one_hot_cols = [\"Currently Insured\", \"Marital Status\", \"click\", \"rank\"]\n",
    "        drop_cols = [\"Currently Insured_unknown\", \"Marital Status_S\", \"rank_5.0\", \"click_False\"]\n",
    "        column_names = ['Currently Insured_Y', 'Currently Insured_N', 'Number of Vehicles',\n",
    "                        'Number of Drivers', 'Marital Status_M', 'bid', 'rank_1.0',\n",
    "                        'rank_2.0', 'rank_3.0', 'rank_4.0', 'click_True', 'policies_sold']\n",
    "    else:\n",
    "        one_hot_cols = [\"Currently Insured\", \"Marital Status\", \"click\"]\n",
    "        drop_cols = [\"Currently Insured_unknown\", \"Marital Status_S\", \"click_False\"]\n",
    "        column_names = ['Currently Insured_Y', 'Currently Insured_N', 'Number of Vehicles','Number of Drivers',\n",
    "                        'Marital Status_M', 'bid', 'rank', 'click_True', 'policies_sold']\n",
    "    \n",
    "    encoder = ce.OneHotEncoder(cols = one_hot_cols, use_cat_names = True)\n",
    "    temp = encoder.fit_transform(temp)\n",
    "    temp = temp.drop(columns = drop_cols)\n",
    "    temp = temp.reindex(columns=column_names)\n",
    "    return temp"
   ]
  },
  {
   "cell_type": "code",
   "execution_count": 63,
   "id": "9843ebf6",
   "metadata": {},
   "outputs": [
    {
     "name": "stderr",
     "output_type": "stream",
     "text": [
      "C:\\Users\\David\\anaconda3\\lib\\site-packages\\category_encoders\\utils.py:21: FutureWarning: is_categorical is deprecated and will be removed in a future version.  Use is_categorical_dtype instead\n",
      "  elif pd.api.types.is_categorical(cols):\n"
     ]
    }
   ],
   "source": [
    "df = prepare_data(data)"
   ]
  },
  {
   "cell_type": "code",
   "execution_count": 64,
   "id": "c4d7c6e1",
   "metadata": {},
   "outputs": [],
   "source": [
    "from sklearn.model_selection import train_test_split\n",
    "from sklearn.model_selection import StratifiedKFold\n",
    "from sklearn.base import clone\n",
    "from sklearn.metrics import average_precision_score, roc_auc_score, precision_recall_curve, accuracy_score\n",
    "\n",
    "features = ['Currently Insured_Y',\n",
    "            'Currently Insured_N',\n",
    "            'Number of Vehicles',\n",
    "            'Number of Drivers',\n",
    "            'Marital Status_M',\n",
    "            'bid',\n",
    "            'rank']\n",
    "predictor_var = [\"click_True\"]\n",
    "\n",
    "df_train, df_test = train_test_split(df,\n",
    "                                     shuffle=True,\n",
    "                                     random_state=12345,\n",
    "                                     test_size=.2,\n",
    "                                     stratify=df[predictor_var])"
   ]
  },
  {
   "cell_type": "code",
   "execution_count": 77,
   "id": "add06ddd",
   "metadata": {},
   "outputs": [],
   "source": [
    "## Baseline Model: Biased coinflip with probability of landing 1 the average of the clicks in the 10000 data\n",
    "np.random.seed(12345)\n",
    "rand_prob = np.random.rand(8000)\n",
    "threshold = np.average(df[predictor_var])\n",
    "baseline = np.array([int(x < threshold) for x in rand_prob])"
   ]
  },
  {
   "cell_type": "code",
   "execution_count": 89,
   "id": "e0d3aeff",
   "metadata": {},
   "outputs": [],
   "source": [
    "num_of_splits = 5\n",
    "\n",
    "avg_precision_cross_val = np.zeros(num_of_splits) \n",
    "roc_auc_cross_val = np.zeros(num_of_splits) \n",
    "accuracy_cross_val = np.zeros(num_of_splits) \n",
    "\n",
    "kfold = StratifiedKFold(n_splits=num_of_splits, shuffle=True, random_state=77)\n",
    "\n",
    "i = 0\n",
    "for train_index, test_index in kfold.split(df_train[features], df_train[predictor_var]):\n",
    "    df_train_train = df_train.iloc[train_index]\n",
    "    df_train_val = df_train.iloc[test_index]\n",
    "    y_actual = np.array(df_train_val[predictor_var]).reshape(1,-1)[0]\n",
    "    \n",
    "    avg_precision_cross_val[i] = average_precision_score(y_actual, baseline[test_index])\n",
    "    roc_auc_cross_val[i] = roc_auc_score(y_actual, baseline[test_index])\n",
    "    accuracy_cross_val[i] = accuracy_score(y_actual, baseline[test_index])\n",
    " \n",
    "    i += 1"
   ]
  },
  {
   "cell_type": "code",
   "execution_count": 95,
   "id": "d1f07f6f",
   "metadata": {},
   "outputs": [
    {
     "name": "stdout",
     "output_type": "stream",
     "text": [
      "The average cross validation of the average precision score is: 0.18760303872980139\n",
      "The average cross validation of the AUCROC score is: 0.499193727625115\n",
      "The average cross validation of the accuracy score is: 0.695375\n"
     ]
    }
   ],
   "source": [
    "print(\"The average cross validation of the average precision score is: \" + str(np.average(avg_precision_cross_val)))\n",
    "print(\"The average cross validation of the AUCROC score is: \" + str(np.average(roc_auc_cross_val)))\n",
    "print(\"The average cross validation of the accuracy score is: \" + str(np.average(accuracy_cross_val)))"
   ]
  },
  {
   "cell_type": "code",
   "execution_count": 97,
   "id": "d7a9da8d",
   "metadata": {},
   "outputs": [],
   "source": [
    "precision, recall, threshold = precision_recall_curve(np.array(df_train[predictor_var]).reshape(1,-1)[0], \n",
    "                                                      baseline)"
   ]
  },
  {
   "cell_type": "code",
   "execution_count": 109,
   "id": "02d49359",
   "metadata": {},
   "outputs": [
    {
     "data": {
      "text/plain": [
       "Text(0.5, 1.0, 'Precision Recall Curve')"
      ]
     },
     "execution_count": 109,
     "metadata": {},
     "output_type": "execute_result"
    },
    {
     "data": {
      "image/png": "[encoded data removed]",
      "text/plain": [
       "<Figure size 432x288 with 1 Axes>"
      ]
     },
     "metadata": {
      "needs_background": "light"
     },
     "output_type": "display_data"
    }
   ],
   "source": [
    "np.random.seed(12345)\n",
    "precision, recall, threshold = precision_recall_curve(np.array(df_train[predictor_var]).reshape(1,-1)[0], \n",
    "                                                      np.random.rand(8000))\n",
    "plt.plot(recall[:-1], precision[:-1], label = 'baseline')\n",
    "plt.xlabel(\"Recall\")\n",
    "plt.ylabel(\"Precision\")\n",
    "plt.ylim(0,1)\n",
    "plt.xlim(0,1)\n",
    "plt.title(\"Precision Recall Curve\")"
   ]
  },
  {
   "cell_type": "code",
   "execution_count": null,
   "id": "aaae81e2",
   "metadata": {},
   "outputs": [],
   "source": []
  }
 ],
 "metadata": {
  "kernelspec": {
   "display_name": "Python 3",
   "language": "python",
   "name": "python3"
  },
  "language_info": {
   "codemirror_mode": {
    "name": "ipython",
    "version": 3
   },
   "file_extension": ".py",
   "mimetype": "text/x-python",
   "name": "python",
   "nbconvert_exporter": "python",
   "pygments_lexer": "ipython3",
   "version": "3.8.8"
  }
 },
 "nbformat": 4,
 "nbformat_minor": 5
}
