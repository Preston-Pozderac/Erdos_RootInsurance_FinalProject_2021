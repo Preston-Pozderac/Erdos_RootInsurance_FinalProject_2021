{
 "cells": [
  {
   "cell_type": "code",
   "execution_count": 1,
   "id": "187c21d4",
   "metadata": {},
   "outputs": [],
   "source": [
    "import pandas as pd\n",
    "import csv\n",
    "import numpy as np\n",
    "import plotly.express as px\n",
    "import matplotlib.pyplot as plt"
   ]
  },
  {
   "cell_type": "code",
   "execution_count": 2,
   "id": "cfebc896",
   "metadata": {},
   "outputs": [],
   "source": [
    "data = pd.read_csv(\"Root_Insurance_data.csv\",delimiter = \",\")"
   ]
  },
  {
   "cell_type": "code",
   "execution_count": 3,
   "id": "6a08d384",
   "metadata": {},
   "outputs": [],
   "source": [
    "## Input: Data Frame (in the format of \"Root_Insurance_data.csv\") and encode_rank (default = False)\n",
    "## Output: Data Frame (processed by one hot encoding ready to be used to make models)\n",
    "\n",
    "## This function will one hot encode the following columns in the data frame: \n",
    "## Currently Insured, Marital Status, click, rank (optional, determined by encode_rank = True)\n",
    "## and will drop the respective columns associated to the respective values of above columns:\n",
    "## unknown, S, False, 5.0 (if encode_rank = True)\n",
    "\n",
    "import category_encoders as ce\n",
    "\n",
    "def prepare_data(data:pd.DataFrame(), encode_rank = False, drop_column = False) -> pd.DataFrame():\n",
    "    temp = data.copy()\n",
    "    \n",
    "    if encode_rank:\n",
    "        one_hot_cols = [\"Currently Insured\", \"Marital Status\", \"click\", \"rank\"]\n",
    "        drop_cols = [\"Currently Insured_unknown\", \"Marital Status_S\", \"rank_5.0\", \"click_False\"]\n",
    "        column_names = ['Currently Insured_Y', 'Currently Insured_N', 'Number of Vehicles',\n",
    "                        'Number of Drivers', 'Marital Status_M', 'bid', 'rank_1.0',\n",
    "                        'rank_2.0', 'rank_3.0', 'rank_4.0', 'click_True', 'policies_sold']\n",
    "    else:\n",
    "        one_hot_cols = [\"Currently Insured\", \"Marital Status\", \"click\"]\n",
    "        drop_cols = [\"Currently Insured_unknown\", \"Marital Status_S\", \"click_False\"]\n",
    "        column_names = ['Currently Insured_Y', 'Currently Insured_N', 'Number of Vehicles','Number of Drivers',\n",
    "                        'Marital Status_M', 'bid', 'rank', 'click_True', 'policies_sold']\n",
    "    \n",
    "    encoder = ce.OneHotEncoder(cols = one_hot_cols, use_cat_names = True)\n",
    "    temp = encoder.fit_transform(temp)\n",
    "    temp = temp.drop(columns = drop_cols)\n",
    "    temp = temp.reindex(columns=column_names)\n",
    "    return temp"
   ]
  },
  {
   "cell_type": "code",
   "execution_count": 4,
   "id": "9843ebf6",
   "metadata": {},
   "outputs": [
    {
     "name": "stderr",
     "output_type": "stream",
     "text": [
      "C:\\Users\\David\\anaconda3\\lib\\site-packages\\category_encoders\\utils.py:21: FutureWarning: is_categorical is deprecated and will be removed in a future version.  Use is_categorical_dtype instead\n",
      "  elif pd.api.types.is_categorical(cols):\n"
     ]
    }
   ],
   "source": [
    "df = prepare_data(data)"
   ]
  },
  {
   "cell_type": "code",
   "execution_count": 5,
   "id": "add06ddd",
   "metadata": {},
   "outputs": [],
   "source": [
    "from sklearn.model_selection import train_test_split\n",
    "from sklearn.model_selection import StratifiedKFold\n",
    "from sklearn.base import clone\n",
    "from sklearn.metrics import average_precision_score, roc_auc_score, precision_recall_curve, accuracy_score\n",
    "\n",
    "features = ['Currently Insured_Y',\n",
    "            'Currently Insured_N',\n",
    "            'Number of Vehicles',\n",
    "            'Number of Drivers',\n",
    "            'Marital Status_M',\n",
    "            'bid',\n",
    "            'rank']\n",
    "predictor_var = \"click_True\"\n",
    "\n",
    "df_train, df_test = train_test_split(df,\n",
    "                                     shuffle=True,\n",
    "                                     random_state=12345,\n",
    "                                     test_size=.2,\n",
    "                                     stratify=df[predictor_var])"
   ]
  },
  {
   "cell_type": "code",
   "execution_count": 6,
   "id": "2e1a2567",
   "metadata": {},
   "outputs": [],
   "source": [
    "## Allows for variantion of resampling with condition resampling = \"None\", \"Up\", \"Down\" or \"Balanced\"\n",
    "## Allow for variation of scoring method for this we will use: scoring_method = 'accuracy', 'average_precision', 'roc_auc' \n",
    "\n",
    "from sklearn.ensemble import RandomForestClassifier\n",
    "from sklearn.utils import resample,shuffle\n",
    "from sklearn.model_selection import RandomizedSearchCV, GridSearchCV\n",
    "\n",
    "# Number of trees in random forest\n",
    "n_estimators = [10, 30, 100, 300, 1000, 3000]\n",
    "# Number of features to consider at every split\n",
    "max_features = range(1,len(features) + 1)\n",
    "# Maximum number of levels in tree\n",
    "max_depth = range(1,11)\n",
    "# Method of selecting samples for training each tree\n",
    "\n",
    "random_grid = {'n_estimators': n_estimators,\n",
    "               'max_features': max_features,\n",
    "               'max_depth': max_depth}\n",
    "\n",
    "kfold = StratifiedKFold(n_splits=5, shuffle=True, random_state=77)\n",
    "\n",
    "def obtain_rf_param(data:pd.DataFrame(), scoring_method:str) -> []:\n",
    "    df = data\n",
    "    rf = RandomForestClassifier(random_state = 808)\n",
    "    rf_search = GridSearchCV(estimator = rf, \n",
    "                             param_grid = random_grid, \n",
    "                             cv = kfold, \n",
    "                             scoring = scoring_method,\n",
    "                             verbose=3, \n",
    "                             n_jobs = -1)\n",
    "    rf_search.fit(df[features], df[predictor_var])\n",
    "    \n",
    "    return [scoring_method, rf_search.best_score_, rf_search.best_params_]\n",
    "\n",
    "def obtain_rf_scores(data:pd.DataFrame(), num_of_splits = 5, resampling = \"None\") -> []:\n",
    "    \n",
    "    avg_precision_cross_val = np.zeros(num_of_splits)\n",
    "    roc_auc_cross_val = np.zeros(num_of_splits) \n",
    "    accuracy_cross_val = np.zeros(num_of_splits) \n",
    "\n",
    "    kfold = StratifiedKFold(n_splits=num_of_splits, shuffle=True, random_state=77)\n",
    "    \n",
    "    i = 0\n",
    "    for train_index, test_index in kfold.split(df_train[features], df_train[predictor_var]):\n",
    "        df_train_train = resample_data(data.iloc[train_index], resample_type = resampling)\n",
    "        df_train_val = data.iloc[test_index]\n",
    "        \n",
    "        \n",
    "        rf_cla = RandomForestClassifier(n_estimators = 300,\n",
    "                                        max_features = 3,\n",
    "                                        max_depth=6, \n",
    "                                        random_state = 808)\n",
    "        rf_cla.fit(df_train_train[features], df_train_train[predictor_var])\n",
    "\n",
    "        avg_precision_cross_val[i] = average_precision_score(df_train_val[predictor_var], \n",
    "                                                             rf_cla.predict_proba(df_train_val[features])[:,1])\n",
    "        roc_auc_cross_val[i] = roc_auc_score(df_train_val[predictor_var], \n",
    "                                             rf_cla.predict_proba(df_train_val[features])[:,1])\n",
    "        accuracy_cross_val[i] = accuracy_score(df_train_val[predictor_var], \n",
    "                                               rf_cla.predict(df_train_val[features]))\n",
    "        i += 1\n",
    "    \n",
    "    return [avg_precision_cross_val, roc_auc_cross_val, accuracy_cross_val]\n",
    "\n",
    "def resample_data(df:pd.DataFrame(), resample_type = \"None\") -> pd.DataFrame():\n",
    "    df_minority = df[df[predictor_var] == 1]\n",
    "    df_majority = df[df[predictor_var] != 1]\n",
    "    if resample_type == \"Up\":\n",
    "        df_minority_up = resample(df_minority,\n",
    "                                  random_state=886,\n",
    "                                  n_samples=len(df_majority),\n",
    "                                  replace=True)\n",
    "        df_resampled = pd.concat([df_minority_up, df_majority]).sample(frac=1, random_state = 0)\n",
    "    elif resample_type == \"Down\":\n",
    "        df_majority_down = resample(df_majority,\n",
    "                                    random_state=886,\n",
    "                                    n_samples=len(df_minority),\n",
    "                                    replace=True)\n",
    "        df_resampled = pd.concat([df_majority_down, df_minority]).sample(frac=1, random_state = 0)\n",
    "    elif resample_type == \"Balanced\":\n",
    "        df_majority_bal = resample(df_majority,\n",
    "                                           random_state=886,\n",
    "                                           n_samples= int(len(df)/2),\n",
    "                                           replace=True)\n",
    "        df_minority_bal = resample(df_minority,\n",
    "                                               random_state=886,\n",
    "                                               n_samples=int(len(df)/2),\n",
    "                                               replace=True)\n",
    "        df_resampled = pd.concat([df_majority_bal, df_minority_bal]).sample(frac=1, random_state = 0) \n",
    "    else:\n",
    "        df_resampled = df\n",
    "    return df_resampled\n",
    "\n",
    "        "
   ]
  },
  {
   "cell_type": "code",
   "execution_count": 7,
   "id": "ad590639",
   "metadata": {},
   "outputs": [
    {
     "name": "stdout",
     "output_type": "stream",
     "text": [
      "Fitting 5 folds for each of 420 candidates, totalling 2100 fits\n",
      "['average_precision', 0.4525124866438704, {'max_depth': 3, 'max_features': 5, 'n_estimators': 300}]\n",
      "Fitting 5 folds for each of 420 candidates, totalling 2100 fits\n",
      "['roc_auc', 0.7986364700047434, {'max_depth': 4, 'max_features': 7, 'n_estimators': 10}]\n",
      "Fitting 5 folds for each of 420 candidates, totalling 2100 fits\n",
      "['accuracy', 0.8238749999999999, {'max_depth': 7, 'max_features': 3, 'n_estimators': 30}]\n"
     ]
    }
   ],
   "source": [
    "print(obtain_rf_param(df_train, scoring_method = 'average_precision'))\n",
    "print(obtain_rf_param(df_train, scoring_method = \"roc_auc\"))\n",
    "print(obtain_rf_param(df_train, scoring_method = \"accuracy\"))"
   ]
  },
  {
   "cell_type": "markdown",
   "id": "44cc8fe7",
   "metadata": {},
   "source": [
    "### Using above parameters, Testing resampling"
   ]
  },
  {
   "cell_type": "code",
   "execution_count": 8,
   "id": "24f845ac",
   "metadata": {},
   "outputs": [],
   "source": [
    "num_of_splits = 5\n",
    "avg_precision_cross_val = np.zeros(num_of_splits)\n",
    "roc_auc_cross_val = np.zeros(num_of_splits) \n",
    "accuracy_cross_val = np.zeros(num_of_splits)  \n",
    "\n",
    "kfold = StratifiedKFold(n_splits=num_of_splits, shuffle=True, random_state=77)\n",
    "\n",
    "i = 0\n",
    "for train_index, test_index in kfold.split(df_train[features], df_train[predictor_var]):\n",
    "    df_train_train = resample_data(df_train.iloc[train_index], resample_type = \"Up\")\n",
    "    df_train_val = df_train.iloc[test_index]\n",
    "    \n",
    "    rf_cla = RandomForestClassifier(n_estimators = 300,\n",
    "                            max_features = 5,\n",
    "                            max_depth=3, \n",
    "                            random_state = 808)\n",
    "    rf_cla.fit(df_train_train[features], df_train_train[predictor_var])\n",
    "\n",
    "    avg_precision_cross_val[i] = average_precision_score(df_train_val[predictor_var], \n",
    "                                                         rf_cla.predict_proba(df_train_val[features])[:,1])\n",
    "    roc_auc_cross_val[i] = roc_auc_score(df_train_val[predictor_var], \n",
    "                                         rf_cla.predict_proba(df_train_val[features])[:,1])\n",
    "    accuracy_cross_val[i] = accuracy_score(df_train_val[predictor_var], \n",
    "                                           rf_cla.predict(df_train_val[features]))\n",
    "    i += 1"
   ]
  },
  {
   "cell_type": "code",
   "execution_count": 9,
   "id": "4dd14989",
   "metadata": {},
   "outputs": [
    {
     "name": "stdout",
     "output_type": "stream",
     "text": [
      "[0.44804297 0.46041125 0.43609563 0.47155614 0.43829319]\n",
      "[0.79931406 0.79793554 0.79344487 0.80687051 0.78651795]\n",
      "[0.7375   0.761875 0.749375 0.75875  0.755   ]\n"
     ]
    }
   ],
   "source": [
    "print(avg_precision_cross_val)\n",
    "print(roc_auc_cross_val)\n",
    "print(accuracy_cross_val)"
   ]
  },
  {
   "cell_type": "code",
   "execution_count": 10,
   "id": "498ad239",
   "metadata": {},
   "outputs": [],
   "source": [
    "def info(avg_precision_cross_val, roc_auc_cross_val, accuracy_cross_val):\n",
    "    print(\"Average cross val AUCPR = \" + str(np.average(avg_precision_cross_val)))\n",
    "    print()\n",
    "    print(\"Average cross val AUCROC = \" + str(np.average(roc_auc_cross_val)))\n",
    "    print()\n",
    "    print(\"Average cross val Accuracy = \" + str(np.average(accuracy_cross_val)))"
   ]
  },
  {
   "cell_type": "markdown",
   "id": "1fddafc5",
   "metadata": {},
   "source": [
    "### No Resample Case"
   ]
  },
  {
   "cell_type": "code",
   "execution_count": 11,
   "id": "aca85d01",
   "metadata": {
    "scrolled": true
   },
   "outputs": [
    {
     "name": "stdout",
     "output_type": "stream",
     "text": [
      "Average cross val AUCPR = 0.45090075694613246\n",
      "\n",
      "Average cross val AUCROC = 0.7960129162439329\n",
      "\n",
      "Average cross val Accuracy = 0.8227500000000001\n"
     ]
    }
   ],
   "source": [
    "avg_precision_cross_val, roc_auc_cross_val, accuracy_cross_val = obtain_rf_scores(df_train)\n",
    "info(avg_precision_cross_val, roc_auc_cross_val, accuracy_cross_val)"
   ]
  },
  {
   "cell_type": "markdown",
   "id": "2a06b998",
   "metadata": {},
   "source": [
    "### Upsample Case"
   ]
  },
  {
   "cell_type": "code",
   "execution_count": 12,
   "id": "67ccff2c",
   "metadata": {},
   "outputs": [
    {
     "name": "stdout",
     "output_type": "stream",
     "text": [
      "Average cross val AUCPR = 0.4480204608901244\n",
      "\n",
      "Average cross val AUCROC = 0.7950765526451278\n",
      "\n",
      "Average cross val Accuracy = 0.745125\n"
     ]
    }
   ],
   "source": [
    "avg_precision_cross_val_up, roc_auc_cross_val_up, accuracy_cross_val_up = obtain_rf_scores(df_train, resampling = \"Up\")\n",
    "info(avg_precision_cross_val_up, roc_auc_cross_val_up, accuracy_cross_val_up)"
   ]
  },
  {
   "cell_type": "markdown",
   "id": "98970ee8",
   "metadata": {},
   "source": [
    "### Downsample Case"
   ]
  },
  {
   "cell_type": "code",
   "execution_count": 13,
   "id": "8e77f4eb",
   "metadata": {},
   "outputs": [
    {
     "name": "stdout",
     "output_type": "stream",
     "text": [
      "Average cross val AUCPR = 0.440283879285963\n",
      "\n",
      "Average cross val AUCROC = 0.7923455348164377\n",
      "\n",
      "Average cross val Accuracy = 0.7322500000000001\n"
     ]
    }
   ],
   "source": [
    "avg_precision_cross_val_down, roc_auc_cross_val_down, accuracy_cross_val_down = obtain_rf_scores(df_train, resampling = \"Down\")\n",
    "info(avg_precision_cross_val_down, roc_auc_cross_val_down, accuracy_cross_val_down)"
   ]
  },
  {
   "cell_type": "markdown",
   "id": "ceb2f601",
   "metadata": {},
   "source": [
    "### Balanced Sampling Case"
   ]
  },
  {
   "cell_type": "code",
   "execution_count": 14,
   "id": "6a95f06d",
   "metadata": {},
   "outputs": [
    {
     "name": "stdout",
     "output_type": "stream",
     "text": [
      "Average cross val AUCPR = 0.4471759847829769\n",
      "\n",
      "Average cross val AUCROC = 0.7940553079675395\n",
      "\n",
      "Average cross val Accuracy = 0.73725\n"
     ]
    }
   ],
   "source": [
    "avg_precision_cross_val_bal, roc_auc_cross_val_bal, accuracy_cross_val_bal = obtain_rf_scores(df_train, resampling = \"Balanced\")\n",
    "info(avg_precision_cross_val_bal, roc_auc_cross_val_bal, accuracy_cross_val_bal)"
   ]
  },
  {
   "cell_type": "code",
   "execution_count": null,
   "id": "ca9a442f",
   "metadata": {},
   "outputs": [],
   "source": []
  }
 ],
 "metadata": {
  "kernelspec": {
   "display_name": "Python 3",
   "language": "python",
   "name": "python3"
  },
  "language_info": {
   "codemirror_mode": {
    "name": "ipython",
    "version": 3
   },
   "file_extension": ".py",
   "mimetype": "text/x-python",
   "name": "python",
   "nbconvert_exporter": "python",
   "pygments_lexer": "ipython3",
   "version": "3.8.8"
  }
 },
 "nbformat": 4,
 "nbformat_minor": 5
}
