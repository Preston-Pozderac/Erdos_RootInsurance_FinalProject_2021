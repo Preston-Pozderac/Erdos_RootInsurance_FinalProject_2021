{
 "cells": [
  {
   "cell_type": "code",
   "execution_count": 4,
   "id": "187c21d4",
   "metadata": {},
   "outputs": [],
   "source": [
    "import pandas as pd\n",
    "import csv\n",
    "import numpy as np\n",
    "import plotly.express as px\n",
    "import matplotlib.pyplot as plt"
   ]
  },
  {
   "cell_type": "code",
   "execution_count": 5,
   "id": "cfebc896",
   "metadata": {},
   "outputs": [],
   "source": [
    "data = pd.read_csv(\"Root_Insurance_data.csv\",delimiter = \",\")"
   ]
  },
  {
   "cell_type": "code",
   "execution_count": 6,
   "id": "6a08d384",
   "metadata": {},
   "outputs": [],
   "source": [
    "## Input: Data Frame (in the format of \"Root_Insurance_data.csv\") and encode_rank (default = False)\n",
    "## Output: Data Frame (processed by one hot encoding ready to be used to make models)\n",
    "\n",
    "## This function will one hot encode the following columns in the data frame: \n",
    "## Currently Insured, Marital Status, click, rank (optional, determined by encode_rank = True)\n",
    "## and will drop the respective columns associated to the respective values of above columns:\n",
    "## unknown, S, False, 5.0 (if encode_rank = True)\n",
    "\n",
    "import category_encoders as ce\n",
    "\n",
    "def prepare_data(data:pd.DataFrame(), encode_rank = False, drop_column = False) -> pd.DataFrame():\n",
    "    temp = data.copy()\n",
    "    \n",
    "    if encode_rank:\n",
    "        one_hot_cols = [\"Currently Insured\", \"Marital Status\", \"click\", \"rank\"]\n",
    "        drop_cols = [\"Currently Insured_unknown\", \"Marital Status_S\", \"rank_5.0\", \"click_False\"]\n",
    "        column_names = ['Currently Insured_Y', 'Currently Insured_N', 'Number of Vehicles',\n",
    "                        'Number of Drivers', 'Marital Status_M', 'bid', 'rank_1.0',\n",
    "                        'rank_2.0', 'rank_3.0', 'rank_4.0', 'click_True', 'policies_sold']\n",
    "    else:\n",
    "        one_hot_cols = [\"Currently Insured\", \"Marital Status\", \"click\"]\n",
    "        drop_cols = [\"Currently Insured_unknown\", \"Marital Status_S\", \"click_False\"]\n",
    "        column_names = ['Currently Insured_Y', 'Currently Insured_N', 'Number of Vehicles','Number of Drivers',\n",
    "                        'Marital Status_M', 'bid', 'rank', 'click_True', 'policies_sold']\n",
    "    \n",
    "    encoder = ce.OneHotEncoder(cols = one_hot_cols, use_cat_names = True)\n",
    "    temp = encoder.fit_transform(temp)\n",
    "    temp = temp.drop(columns = drop_cols)\n",
    "    temp = temp.reindex(columns=column_names)\n",
    "    return temp"
   ]
  },
  {
   "cell_type": "code",
   "execution_count": 7,
   "id": "9843ebf6",
   "metadata": {},
   "outputs": [
    {
     "name": "stderr",
     "output_type": "stream",
     "text": [
      "C:\\Users\\David\\anaconda3\\lib\\site-packages\\category_encoders\\utils.py:21: FutureWarning: is_categorical is deprecated and will be removed in a future version.  Use is_categorical_dtype instead\n",
      "  elif pd.api.types.is_categorical(cols):\n"
     ]
    }
   ],
   "source": [
    "df = prepare_data(data)"
   ]
  },
  {
   "cell_type": "code",
   "execution_count": 8,
   "id": "add06ddd",
   "metadata": {},
   "outputs": [],
   "source": [
    "from sklearn.model_selection import train_test_split\n",
    "from sklearn.model_selection import StratifiedKFold\n",
    "from sklearn.base import clone\n",
    "from sklearn.metrics import average_precision_score, roc_auc_score, precision_recall_curve, accuracy_score\n",
    "\n",
    "features = ['Currently Insured_Y',\n",
    "            'Currently Insured_N',\n",
    "            'Number of Vehicles',\n",
    "            'Number of Drivers',\n",
    "            'Marital Status_M',\n",
    "            'bid',\n",
    "            'rank']\n",
    "predictor_var = \"click_True\"\n",
    "\n",
    "df_train, df_test = train_test_split(df,\n",
    "                                     shuffle=True,\n",
    "                                     random_state=12345,\n",
    "                                     test_size=.2,\n",
    "                                     stratify=df[predictor_var])"
   ]
  },
  {
   "cell_type": "code",
   "execution_count": 62,
   "id": "2e1a2567",
   "metadata": {},
   "outputs": [],
   "source": [
    "## Allows for variantion of resampling with condition resampling = \"None\", \"Up\", \"Down\" or \"Balanced\"\n",
    "\n",
    "from sklearn.tree import DecisionTreeClassifier\n",
    "from sklearn.utils import resample,shuffle\n",
    "\n",
    "def obtain_tree_scores(data:pd.DataFrame(), num_of_splits = 5, depth = 30, resampling = \"None\") -> []:\n",
    "    depths = range(1,depth + 1)\n",
    "\n",
    "    avg_precision_cross_val = np.zeros((num_of_splits,len(depths)))\n",
    "    roc_auc_cross_val = np.zeros((num_of_splits,len(depths))) \n",
    "    accuracy_cross_val = np.zeros((num_of_splits,len(depths)))  \n",
    "\n",
    "    kfold = StratifiedKFold(n_splits=num_of_splits, shuffle=True, random_state=77)\n",
    "    \n",
    "    i = 0\n",
    "    for train_index, test_index in kfold.split(df_train[features], df_train[predictor_var]):\n",
    "        df_train_train = resample_data(data.iloc[train_index], resample_type = resampling)\n",
    "        df_train_val = data.iloc[test_index]\n",
    "        \n",
    "        for j in depths:\n",
    "            tree = DecisionTreeClassifier(max_depth=j, random_state=174)\n",
    "            tree.fit(df_train_train[features], df_train_train[predictor_var])\n",
    "\n",
    "            avg_precision_cross_val[i,j-1] = average_precision_score(df_train_val[predictor_var], \n",
    "                                                                 tree.predict_proba(df_train_val[features])[:,1])\n",
    "            roc_auc_cross_val[i,j-1] = roc_auc_score(df_train_val[predictor_var], \n",
    "                                                 tree.predict_proba(df_train_val[features])[:,1])\n",
    "            accuracy_cross_val[i,j-1] = accuracy_score(df_train_val[predictor_var], \n",
    "                                                   tree.predict(df_train_val[features]))\n",
    "        i += 1\n",
    "    \n",
    "    return [avg_precision_cross_val, roc_auc_cross_val, accuracy_cross_val]\n",
    "\n",
    "def resample_data(df:pd.DataFrame(), resample_type = \"None\") -> pd.DataFrame():\n",
    "    df_minority = df[df[predictor_var] == 1]\n",
    "    df_majority = df[df[predictor_var] != 1]\n",
    "    if resample_type == \"Up\":\n",
    "        df_minority_up = resample(df_minority,\n",
    "                                  random_state=886,\n",
    "                                  n_samples=len(df_majority),\n",
    "                                  replace=True)\n",
    "        df_resampled = pd.concat([df_minority_up, df_majority]).sample(frac=1, random_state = 0)\n",
    "    elif resample_type == \"Down\":\n",
    "        df_majority_down = resample(df_majority,\n",
    "                                    random_state=886,\n",
    "                                    n_samples=len(df_minority),\n",
    "                                    replace=True)\n",
    "        df_resampled = pd.concat([df_majority_down, df_minority]).sample(frac=1, random_state = 0)\n",
    "    elif resample_type == \"Balanced\":\n",
    "        df_majority_bal = resample(df_majority,\n",
    "                                           random_state=886,\n",
    "                                           n_samples= int(len(df)/2),\n",
    "                                           replace=True)\n",
    "        df_minority_bal = resample(df_minority,\n",
    "                                               random_state=886,\n",
    "                                               n_samples=int(len(df)/2),\n",
    "                                               replace=True)\n",
    "        df_resampled = pd.concat([df_majority_bal, df_minority_bal]).sample(frac=1, random_state = 0) \n",
    "    else:\n",
    "        df_resampled = df\n",
    "    return df_resampled\n",
    "\n",
    "        "
   ]
  },
  {
   "cell_type": "code",
   "execution_count": 63,
   "id": "3d74cd95",
   "metadata": {},
   "outputs": [],
   "source": [
    "def plot_charts(avg_precision_avg_val, roc_auc_avg_val, accuracy_avg_val):\n",
    "    X = range(1,31)\n",
    "    plt.plot(X, avg_precision_avg_val, label=\"AUCPR\")\n",
    "    plt.plot(X, roc_auc_avg_val, label=\"AUCROC\")\n",
    "    plt.plot(X, accuracy_avg_val, label=\"Accuracy\")\n",
    "    plt.legend()\n",
    "    plt.xlabel(\"tree depth\")\n",
    "    plt.ylabel(\"avg_cross_val\")\n",
    "    plt.ylim(0,1)\n",
    "    plt.xlim(1,10)\n",
    "    plt.show()\n",
    "    print(\"Tree depth highest of AUCPR is: \" + str(np.argmax(avg_precision_avg_val) + 1))\n",
    "    print(\"with AUCPR = \" + str(avg_precision_avg_val[np.argmax(avg_precision_avg_val)]))\n",
    "    print()\n",
    "    print(\"Tree depth highest of AUCROC is: \" + str(np.argmax(roc_auc_avg_val) + 1))\n",
    "    print(\"with AUCPR = \" + str(roc_auc_avg_val[np.argmax(roc_auc_avg_val)]))\n",
    "    print()\n",
    "    print(\"Tree depth highest of Accuracy is: \" + str(np.argmax(accuracy_avg_val) + 1))\n",
    "    print(\"with AUCPR = \" + str(accuracy_avg_val[np.argmax(accuracy_avg_val)]))"
   ]
  },
  {
   "cell_type": "markdown",
   "id": "1fddafc5",
   "metadata": {},
   "source": [
    "### No Resample Case"
   ]
  },
  {
   "cell_type": "code",
   "execution_count": 64,
   "id": "aca85d01",
   "metadata": {},
   "outputs": [
    {
     "data": {
      "image/png": "[encoded data removed]",
      "text/plain": [
       "<Figure size 432x288 with 1 Axes>"
      ]
     },
     "metadata": {
      "needs_background": "light"
     },
     "output_type": "display_data"
    },
    {
     "name": "stdout",
     "output_type": "stream",
     "text": [
      "Tree depth highest of AUCPR is: 6\n",
      "with AUCPR = 0.44888088375874713\n",
      "\n",
      "Tree depth highest of AUCROC is: 5\n",
      "with AUCPR = 0.7970567320868616\n",
      "\n",
      "Tree depth highest of Accuracy is: 5\n",
      "with AUCPR = 0.82325\n"
     ]
    }
   ],
   "source": [
    "avg_precision_cross_val, roc_auc_cross_val, accuracy_cross_val = obtain_tree_scores(df_train)\n",
    "avg_precision_avg_val = np.average(avg_precision_cross_val, axis=0)\n",
    "roc_auc_avg_val = np.average(roc_auc_cross_val, axis=0)\n",
    "accuracy_avg_val = np.average(accuracy_cross_val, axis=0)\n",
    "\n",
    "plot_charts(avg_precision_avg_val, roc_auc_avg_val, accuracy_avg_val)"
   ]
  },
  {
   "cell_type": "markdown",
   "id": "2a06b998",
   "metadata": {},
   "source": [
    "### Upsample Case"
   ]
  },
  {
   "cell_type": "code",
   "execution_count": 57,
   "id": "294de1fc",
   "metadata": {},
   "outputs": [
    {
     "data": {
      "image/png": "[encoded data removed]",
      "text/plain": [
       "<Figure size 432x288 with 1 Axes>"
      ]
     },
     "metadata": {
      "needs_background": "light"
     },
     "output_type": "display_data"
    },
    {
     "name": "stdout",
     "output_type": "stream",
     "text": [
      "Tree depth highest of AUCPR is: 7\n",
      "with AUCPR = 0.44509955081099495\n",
      "\n",
      "Tree depth highest of AUCROC is: 3\n",
      "with AUCPR = 0.7965670857745653\n",
      "\n",
      "Tree depth highest of Accuracy is: 1\n",
      "with AUCPR = 0.7525000000000001\n"
     ]
    }
   ],
   "source": [
    "avg_precision_cross_val_up, roc_auc_cross_val_up, accuracy_cross_val_up = obtain_tree_scores(df_train, resampling = \"Up\")\n",
    "avg_precision_avg_val_up = np.average(avg_precision_cross_val_up, axis=0)\n",
    "roc_auc_avg_val_up = np.average(roc_auc_cross_val_up, axis=0)\n",
    "accuracy_avg_val_up = np.average(accuracy_cross_val_up, axis=0)\n",
    "\n",
    "plot_charts(avg_precision_avg_val_up, roc_auc_avg_val_up, accuracy_avg_val_up)"
   ]
  },
  {
   "cell_type": "markdown",
   "id": "98970ee8",
   "metadata": {},
   "source": [
    "### Downsample Case"
   ]
  },
  {
   "cell_type": "code",
   "execution_count": 58,
   "id": "00056254",
   "metadata": {},
   "outputs": [
    {
     "data": {
      "image/png": "[encoded data removed]",
      "text/plain": [
       "<Figure size 432x288 with 1 Axes>"
      ]
     },
     "metadata": {
      "needs_background": "light"
     },
     "output_type": "display_data"
    },
    {
     "name": "stdout",
     "output_type": "stream",
     "text": [
      "Tree depth highest of AUCPR is: 5\n",
      "with AUCPR = 0.4352789624110791\n",
      "\n",
      "Tree depth highest of AUCROC is: 3\n",
      "with AUCPR = 0.7945348636795647\n",
      "\n",
      "Tree depth highest of Accuracy is: 1\n",
      "with AUCPR = 0.7525000000000001\n"
     ]
    }
   ],
   "source": [
    "avg_precision_cross_val_down, roc_auc_cross_val_down, accuracy_cross_val_down = obtain_tree_scores(df_train, resampling = \"Down\")\n",
    "avg_precision_avg_val_down = np.average(avg_precision_cross_val_down, axis=0)\n",
    "roc_auc_avg_val_down = np.average(roc_auc_cross_val_down, axis=0)\n",
    "accuracy_avg_val_down = np.average(accuracy_cross_val_down, axis=0)\n",
    "\n",
    "plot_charts(avg_precision_avg_val_down, roc_auc_avg_val_down, accuracy_avg_val_down)"
   ]
  },
  {
   "cell_type": "markdown",
   "id": "ceb2f601",
   "metadata": {},
   "source": [
    "### Balanced Sampling Case"
   ]
  },
  {
   "cell_type": "code",
   "execution_count": 59,
   "id": "9dc25f48",
   "metadata": {},
   "outputs": [
    {
     "data": {
      "image/png": "[encoded data removed]",
      "text/plain": [
       "<Figure size 432x288 with 1 Axes>"
      ]
     },
     "metadata": {
      "needs_background": "light"
     },
     "output_type": "display_data"
    },
    {
     "name": "stdout",
     "output_type": "stream",
     "text": [
      "Tree depth highest of AUCPR is: 7\n",
      "with AUCPR = 0.4394685555109697\n",
      "\n",
      "Tree depth highest of AUCROC is: 4\n",
      "with AUCPR = 0.7964519717264671\n",
      "\n",
      "Tree depth highest of Accuracy is: 2\n",
      "with AUCPR = 0.81925\n"
     ]
    }
   ],
   "source": [
    "avg_precision_cross_val_bal, roc_auc_cross_val_bal, accuracy_cross_val_bal = obtain_tree_scores(df_train, resampling = \"Balanced\")\n",
    "avg_precision_avg_val_bal = np.average(avg_precision_cross_val_bal, axis=0)\n",
    "roc_auc_avg_val_bal = np.average(roc_auc_cross_val_bal, axis=0)\n",
    "accuracy_avg_val_bal = np.average(accuracy_cross_val_bal, axis=0)\n",
    "\n",
    "plot_charts(avg_precision_avg_val_bal, roc_auc_avg_val_bal, accuracy_avg_val_bal)"
   ]
  },
  {
   "cell_type": "code",
   "execution_count": null,
   "id": "ca9a442f",
   "metadata": {},
   "outputs": [],
   "source": []
  }
 ],
 "metadata": {
  "kernelspec": {
   "display_name": "Python 3",
   "language": "python",
   "name": "python3"
  },
  "language_info": {
   "codemirror_mode": {
    "name": "ipython",
    "version": 3
   },
   "file_extension": ".py",
   "mimetype": "text/x-python",
   "name": "python",
   "nbconvert_exporter": "python",
   "pygments_lexer": "ipython3",
   "version": "3.8.8"
  }
 },
 "nbformat": 4,
 "nbformat_minor": 5
}
